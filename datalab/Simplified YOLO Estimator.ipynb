{
  "nbformat": 4,
  "nbformat_minor": 0,
  "metadata": {
    "colab": {
      "name": "Copy of indic2019",
      "version": "0.3.2",
      "provenance": [],
      "collapsed_sections": []
    },
    "kernelspec": {
      "name": "python3",
      "display_name": "Python 3"
    },
    "accelerator": "GPU"
  },
  "cells": [
    {
      "cell_type": "markdown",
      "metadata": {
        "id": "18TyZ2gdj1M0",
        "colab_type": "text"
      },
      "source": [
        "Import statement"
      ]
    },
    {
      "cell_type": "code",
      "metadata": {
        "id": "JOHQBK7L2xGL",
        "colab_type": "code",
        "outputId": "f7131ba2-6a77-48f9-bbd7-0f5050ca41df",
        "colab": {
          "base_uri": "https://localhost:8080/",
          "height": 84
        }
      },
      "source": [
        "import tensorflow as tf\n",
        "from keras import backend as K\n",
        "from google.colab import drive\n",
        "drive.mount('/gdrive')\n",
        "import os\n",
        "import re\n",
        "import shutil\n",
        "import tarfile\n",
        "import matplotlib.pyplot as plt\n",
        "import matplotlib.patches as patches\n",
        "import numpy as np\n",
        "import IPython.display as display\n",
        "import tensorboardcolab as tbc\n",
        "tbc = tbc.TensorBoardColab()"
      ],
      "execution_count": 2,
      "outputs": [
        {
          "output_type": "stream",
          "text": [
            "Mounted at /gdrive\n",
            "Wait for 8 seconds...\n",
            "TensorBoard link:\n",
            "https://3f91bf49.ngrok.io\n"
          ],
          "name": "stdout"
        }
      ]
    },
    {
      "cell_type": "markdown",
      "metadata": {
        "id": "QEnpRvIIj8Bf",
        "colab_type": "text"
      },
      "source": [
        "Write in tensorflow "
      ]
    },
    {
      "cell_type": "code",
      "metadata": {
        "id": "4YODBqo73ST5",
        "colab_type": "code",
        "outputId": "bbec72b5-f466-4ea2-ddb6-6877948745cc",
        "colab": {
          "base_uri": "https://localhost:8080/",
          "height": 87
        }
      },
      "source": [
        "writer = tbc.get_writer()"
      ],
      "execution_count": 0,
      "outputs": [
        {
          "output_type": "stream",
          "text": [
            "WARNING: Logging before flag parsing goes to stderr.\n",
            "W0614 19:10:20.196803 140657897322368 deprecation_wrapper.py:119] From /usr/local/lib/python3.6/dist-packages/tensorboardcolab/core.py:49: The name tf.summary.FileWriter is deprecated. Please use tf.compat.v1.summary.FileWriter instead.\n",
            "\n"
          ],
          "name": "stderr"
        }
      ]
    },
    {
      "cell_type": "markdown",
      "metadata": {
        "id": "yfs1-_8BkBCH",
        "colab_type": "text"
      },
      "source": [
        "Defining the variables"
      ]
    },
    {
      "cell_type": "code",
      "metadata": {
        "id": "HY0PLFYt7kY5",
        "colab_type": "code",
        "colab": {}
      },
      "source": [
        "batch_size = 10\n",
        "nb_boxes=1\n",
        "grid_w=2\n",
        "grid_h=2\n",
        "cell_w=14\n",
        "cell_h=14\n",
        "img_w=28\n",
        "img_h=28\n",
        "img_channels = 1\n",
        "input_shape = (None, img_w, img_h, img_channels)"
      ],
      "execution_count": 0,
      "outputs": []
    },
    {
      "cell_type": "markdown",
      "metadata": {
        "id": "yaAb8BnjkGAX",
        "colab_type": "text"
      },
      "source": [
        "Extract function takes data record and return images and data"
      ]
    },
    {
      "cell_type": "code",
      "metadata": {
        "id": "ALfgwMiBwrcr",
        "colab_type": "code",
        "colab": {}
      },
      "source": [
        "def extract_fn(data_record):\n",
        "    features = {\n",
        "      'image': tf.FixedLenFeature([], tf.string),\n",
        "      'label': tf.FixedLenFeature([5], tf.float32)\n",
        "    }\n",
        "    data = tf.parse_single_example(data_record, features)\n",
        "    img1 = tf.decode_raw(data['image'], tf.float32)\n",
        "    img1 = tf.reshape(img1, (img_w, img_h, img_channels)) #reshape to 28 x 28 x 1\n",
        "    img1 = tf.image.per_image_standardization(img1) #Standardizing\n",
        "    return img1, data['label']"
      ],
      "execution_count": 0,
      "outputs": []
    },
    {
      "cell_type": "code",
      "metadata": {
        "id": "5olAO8qcwyk0",
        "colab_type": "code",
        "colab": {}
      },
      "source": [
        "files_pattern = '/gdrive/My Drive/indic2019/TFRecords/*.tfrecord' #file pattern for tf record\n",
        "test_pattern = '/gdrive/My Drive/indic2019/Test/*.tfrecord' #file pattern for testing it on the test pattern\n",
        "test_image = '/gdrive/My Drive/indic2019/images/10_10.jpg'"
      ],
      "execution_count": 0,
      "outputs": []
    },
    {
      "cell_type": "markdown",
      "metadata": {
        "id": "Z_dayQslkr_S",
        "colab_type": "text"
      },
      "source": [
        "<h3> Input function</h3>\n",
        "  <ul>\n",
        "    <li>Input parameters are files pattern(for taking data from the input), batch_size and mode(predict,eval and train)</li>\n",
        "  <li>Returns features and label in case of eval and train and features in case of predict</li>\n",
        "    </ul>\n"
      ]
    },
    {
      "cell_type": "code",
      "metadata": {
        "id": "NRK9pLE237aL",
        "colab_type": "code",
        "colab": {}
      },
      "source": [
        "def input_fn(files_pattern,batch_size, mode):\n",
        "  print(batch_size)\n",
        "  files = tf.data.Dataset.list_files(files_pattern, shuffle=True)\n",
        "  dataset = files.apply(tf.contrib.data.parallel_interleave( lambda filename: tf.data.TFRecordDataset(filename), cycle_length=1)) \n",
        "  #T parallel_interleave-HIS FUNCTION IS DEPRECATED. (not exactly know)\n",
        "    \n",
        "  #three variables for three mode\n",
        "  is_training = (mode == tf.estimator.ModeKeys.TRAIN)\n",
        "  is_eval = (mode == tf.estimator.ModeKeys.EVAL)\n",
        "  is_predict = (mode== tf.estimator.ModeKeys.PREDICT)\n",
        "  \n",
        "  buffer_size = batch_size * 2 + 1\n",
        "  dataset = dataset.shuffle(buffer_size=buffer_size)\n",
        "\n",
        "  # Transformation\n",
        "  dataset = dataset.map(extract_fn)\n",
        "  \n",
        "  if is_training or is_predict:\n",
        "    dataset = dataset.batch(batch_size)\n",
        "    dataset = dataset.prefetch(2 * batch_size)\n",
        "    \n",
        "  if is_eval:\n",
        "    buffer_size = batch_size * 10\n",
        "    dataset = dataset.shuffle(buffer_size=buffer_size)\n",
        "    dataset = dataset.batch(batch_size)\n",
        "    dataset = dataset.prefetch(10 * batch_size)\n",
        "\n",
        "  image, label = dataset.make_one_shot_iterator().get_next()\n",
        "  features = {'images': image}\n",
        "  \n",
        "  if is_training or is_eval:\n",
        "    return features, label\n",
        "  \n",
        "  if is_predict:\n",
        "    return features "
      ],
      "execution_count": 0,
      "outputs": []
    },
    {
      "cell_type": "markdown",
      "metadata": {
        "id": "I2VKVF0MvNR0",
        "colab_type": "text"
      },
      "source": [
        "<h3> Custom loss </h3>"
      ]
    },
    {
      "cell_type": "code",
      "metadata": {
        "id": "RkD41DymzZxA",
        "colab_type": "code",
        "colab": {}
      },
      "source": [
        "\n",
        "def custom_loss(labels,logits):\n",
        "  \n",
        "  print(\"Printing labels\")\n",
        "  print(labels)\n",
        "  \n",
        "  true_confidence = labels[:,0]\n",
        "  true_x=labels[:,1]\n",
        "  true_y=labels[:,2]\n",
        "  true_w=labels[:,3]\n",
        "  true_h=labels[:,4]\n",
        "\n",
        "  predict_confidence=logits[:,0]\n",
        "  predict_x=logits[:,1]\n",
        "  predict_y=logits[:,2]\n",
        "  predict_w=logits[:,3]\n",
        "  predict_h=logits[:,4]\t\n",
        "\n",
        "  xy_loss= K.square(true_x-predict_x) + K.square(true_y-predict_y)\n",
        "  wh_loss= K.square(K.sqrt(true_w)-K.sqrt(predict_w))+ K.square(K.sqrt(true_h)-K.sqrt(predict_h))\n",
        "\n",
        "  con_loss=K.square(true_confidence-predict_confidence)\n",
        "\n",
        "  loss= xy_loss + wh_loss + con_loss\n",
        "  return tf.math.reduce_mean(loss)"
      ],
      "execution_count": 0,
      "outputs": []
    },
    {
      "cell_type": "markdown",
      "metadata": {
        "id": "CL28NPPyvm26",
        "colab_type": "text"
      },
      "source": [
        "<h3>Bounding Box</h3>\n",
        "Returns coordinates of bounding box"
      ]
    },
    {
      "cell_type": "code",
      "metadata": {
        "id": "TVmc-_5tMY60",
        "colab_type": "code",
        "colab": {}
      },
      "source": [
        "#Shape of y : conf x y w h\n",
        "\n",
        "def convert_to_coord(y):\n",
        "  coord= []\n",
        "  bb_box_width = y[:,3] * img_w\n",
        "  bb_box_height = y[:,4] * img_h\n",
        "  center_x = y[:,1] * img_w\n",
        "  center_y = y[:,2] * img_h\n",
        "  coord.append((center_x - (bb_box_width / 2)))\n",
        "  coord.append((center_y - (bb_box_height / 2)))\n",
        "  coord.append((center_x + (bb_box_width / 2)))\n",
        "  coord.append((center_y + (bb_box_height / 2)))\n",
        "  \n",
        "  return coord\n",
        "  "
      ],
      "execution_count": 0,
      "outputs": []
    },
    {
      "cell_type": "markdown",
      "metadata": {
        "id": "mPx1YpCWwG_g",
        "colab_type": "text"
      },
      "source": [
        "<h3>IOU Loss</h3>"
      ]
    },
    {
      "cell_type": "code",
      "metadata": {
        "id": "pkvKonJyNXaA",
        "colab_type": "code",
        "colab": {}
      },
      "source": [
        "def iou_loss(labels,logits):\n",
        "  #Convert the arrays to absolute coordinates\n",
        "  coord_labels = convert_to_coord(labels)\n",
        "  coord_logits = convert_to_coord(logits)\n",
        "  \n",
        "  # Calculate the (y1, x1, y2, x2) coordinates of the intersection of box1 and box2. Calculate its Area.\n",
        "  xi1 = tf.math.maximum((coord_labels[0]), (coord_logits[0]))\n",
        "  yi1 = tf.math.maximum((coord_labels[1]), (coord_logits[1]))\n",
        "  xi2 = tf.math.minimum((coord_labels[2]), (coord_logits[2]))\n",
        "  yi2 = tf.math.minimum((coord_labels[3]), (coord_logits[3]))\n",
        "  inter_area = tf.math.maximum((yi2-yi1), 0) * tf.math.maximum((xi2-xi1), 0)\n",
        "  \n",
        "  # Calculate the Union area by using Formula: Union(A,B) = A + B - Inter(A,B)\n",
        "  box1_area = (coord_labels[3] - coord_labels[1])*(coord_labels[2]- coord_labels[0])\n",
        "  box2_area = (coord_logits[3] - coord_logits[1])*(coord_logits[2]- coord_logits[0])\n",
        "  union_area = (box1_area + box2_area) - inter_area\n",
        "  # compute the IoU\n",
        "  \n",
        "  iou =inter_area / union_area\n",
        "\n",
        "  return iou\n",
        "  "
      ],
      "execution_count": 0,
      "outputs": []
    },
    {
      "cell_type": "markdown",
      "metadata": {
        "id": "K_-8L9oYmr54",
        "colab_type": "text"
      },
      "source": [
        "<h3>Feature Columns</h3>\n",
        "The feature columns is an intermediaries between raw data and Estimators.<br/>\n",
        "Feature columns bridge raw data with the data your model needs.\n"
      ]
    },
    {
      "cell_type": "code",
      "metadata": {
        "colab_type": "code",
        "id": "T-N-ccCdy5AU",
        "colab": {}
      },
      "source": [
        "def get_feature_columns():\n",
        "  feature_columns = {'images': tf.feature_column.numeric_column('images', (28, 28, 1))}\n",
        "  return feature_columns"
      ],
      "execution_count": 0,
      "outputs": []
    },
    {
      "cell_type": "markdown",
      "metadata": {
        "id": "32tEiXzZu9jq",
        "colab_type": "text"
      },
      "source": [
        "<h3>Base Model</h3>"
      ]
    },
    {
      "cell_type": "code",
      "metadata": {
        "id": "xOSsq5V7RoiT",
        "colab_type": "code",
        "colab": {}
      },
      "source": [
        "def base_model(input,batch_size, input_shape):\n",
        "  \n",
        "  #print(input.shape)\n",
        "  #print(batch_size)\n",
        "  \n",
        "  \n",
        "  #Conv Layer - 1\n",
        "  x = tf.keras.layers.Conv2D(16,(5,5), input_shape = input_shape , name=\"Conv_1\",\n",
        "                             use_bias=True, kernel_initializer='glorot_uniform', \n",
        "                             bias_initializer='zeros')(input)\n",
        "  x = tf.keras.layers.BatchNormalization()(x)\n",
        "  x = tf.keras.layers.ReLU()(x)\n",
        "  x= tf.keras.layers.MaxPooling2D()(x)\n",
        "  \n",
        "  x = tf.keras.layers.Conv2D(16,(5,5), input_shape = input_shape , name=\"Conv_2\",\n",
        "                             use_bias=True, kernel_initializer='glorot_uniform', \n",
        "                             bias_initializer='zeros')(x)\n",
        "  x = tf.keras.layers.BatchNormalization()(x)\n",
        "  x = tf.keras.layers.ReLU()(x)\n",
        "  \n",
        "  #print(x)\n",
        "  \n",
        "  #Flatten it out\n",
        "  x = tf.keras.layers.Flatten(name=\"Flatten_1\")(x)\n",
        "  #print(\"After flatten\")\n",
        "  #print(x)\n",
        "  \n",
        "  #Dense layer\n",
        "  x = tf.keras.layers.Dense(1024, activation=\"sigmoid\", name=\"Dense1\")(x)\n",
        "  #print(x)\n",
        "  x = tf.keras.layers.Dense(5, activation='sigmoid')(x)\n",
        "  #print(x)\n",
        "  # x = tf.keras.layers.Reshape((2*2, (1*5)), name= 'model_final_reshape')(x)\n",
        "  \n",
        "  return x"
      ],
      "execution_count": 0,
      "outputs": []
    },
    {
      "cell_type": "markdown",
      "metadata": {
        "id": "62R63_cNvgL1",
        "colab_type": "text"
      },
      "source": [
        "<h3>Model Function</h3>\n",
        "<ul>\n",
        "  <li>input is features, labels, mode and parameters</li>\n",
        "</ul>\n",
        "\n"
      ]
    },
    {
      "cell_type": "code",
      "metadata": {
        "id": "WQn0Lq1O2QZn",
        "colab_type": "code",
        "colab": {}
      },
      "source": [
        "def model_fn(features, labels, mode, params):\n",
        "                                                                                                \n",
        "  feature_columns = list(get_feature_columns().values())\n",
        "  images = tf.feature_column.input_layer(features=features, feature_columns=feature_columns)\n",
        "  images = tf.reshape(images, shape=(-1, 28, 28, 1),name='my_reshape')\n",
        "\n",
        "  print(\"Printing labels in model function\")\n",
        "  print(labels)\n",
        "\n",
        "  # Calculate logits through CNN                                                                                                            \n",
        "  logits = base_model(images,batch_size, input_shape)\n",
        "\n",
        "  # Create the input layers from the features \n",
        "  if mode in (tf.estimator.ModeKeys.TRAIN, tf.estimator.ModeKeys.EVAL):\n",
        "    global_step = tf.train.get_or_create_global_step()#create default graph\n",
        "    loss=custom_loss(labels,logits) #loss \n",
        "    iou = iou_loss(labels,logits) \n",
        "    tf.summary.scalar('IOU', tf.math.reduce_mean(iou))\n",
        "    tf.summary.scalar('Loss', loss)\n",
        "\n",
        "  if mode == tf.estimator.ModeKeys.PREDICT:\n",
        "    predictions = {'coordinates': logits}\n",
        "    export_outputs = {'coordinates': tf.estimator.export.PredictOutput(predictions)}\n",
        "    return tf.estimator.EstimatorSpec(mode, predictions=predictions, export_outputs=export_outputs)\n",
        "  \n",
        "  if mode == tf.estimator.ModeKeys.EVAL:\n",
        "    iou = iou_loss(labels,logits)\n",
        "    eval_metric_ops = {'iou_eval': tf.metrics.mean(iou)}\n",
        "    return tf.estimator.EstimatorSpec(mode, loss=loss, eval_metric_ops=eval_metric_ops)\n",
        "\n",
        "  if mode == tf.estimator.ModeKeys.TRAIN:\n",
        "    optimizer = tf.train.AdamOptimizer(learning_rate=0.001,beta1=0.9,beta2=0.999,epsilon=1e-08,use_locking=False,name='Adam')\n",
        "    train_op = optimizer.minimize(loss, global_step=global_step)\n",
        "    return tf.estimator.EstimatorSpec(mode, loss=loss, train_op=train_op)\n",
        "  "
      ],
      "execution_count": 0,
      "outputs": []
    },
    {
      "cell_type": "markdown",
      "metadata": {
        "id": "YM_4JOxFzXfJ",
        "colab_type": "text"
      },
      "source": [
        "Preprocess is used in serving_input_fn"
      ]
    },
    {
      "cell_type": "code",
      "metadata": {
        "id": "Y0DU9h4vNbao",
        "colab_type": "code",
        "colab": {}
      },
      "source": [
        "def preprocess(image):\n",
        "  image_contents = tf.read_file(image)\n",
        "  img_decoded = tf.image.decode_jpeg(image_contents, channels=img_channels)\n",
        "  image_converted = tf.image.convert_image_dtype(img_decoded, dtype=tf.float32)\n",
        "  img_expanded = tf.expand_dims(image_converted, 0)\n",
        "  img_resize = tf.image.resize_bilinear(img_expanded,(img_h, img_w))\n",
        "  img_squeezed = tf.squeeze(img_resize,0)\n",
        "  img_standardized = tf.image.per_image_standardization(img_squeezed)\n",
        "  return img_standardized\n"
      ],
      "execution_count": 0,
      "outputs": []
    },
    {
      "cell_type": "markdown",
      "metadata": {
        "id": "19wDjXn4uHHc",
        "colab_type": "text"
      },
      "source": [
        ""
      ]
    },
    {
      "cell_type": "code",
      "metadata": {
        "id": "uo6H6KAoHcHs",
        "colab_type": "code",
        "colab": {}
      },
      "source": [
        "def read_and_preprocess(filename):\n",
        "    # decode the image file starting from the filename\n",
        "    image_contents = tf.read_file(filename)\n",
        "    image = tf.image.decode_jpeg(image_contents, channels=img_channels)\n",
        "    image = tf.image.convert_image_dtype(image, dtype=tf.float32) # 0-1\n",
        "    image= tf.reshape(image, (-1, img_w, img_h, img_channels))\n",
        "    image = tf.image.per_image_standardization(image)\n",
        "    return image"
      ],
      "execution_count": 0,
      "outputs": []
    },
    {
      "cell_type": "code",
      "metadata": {
        "id": "KZ81JZ8XIFsq",
        "colab_type": "code",
        "outputId": "774af0fa-941a-49e5-d151-92f307b01d93",
        "colab": {
          "base_uri": "https://localhost:8080/",
          "height": 34
        }
      },
      "source": [
        "read_and_preprocess('https://drive.google.com/open?id=1a13hnMqYvoqOUMczCdhAfBbkqVm9GzFa')"
      ],
      "execution_count": 0,
      "outputs": [
        {
          "output_type": "execute_result",
          "data": {
            "text/plain": [
              "<tf.Tensor 'per_image_standardization_4:0' shape=(?, 28, 28, 1) dtype=float32>"
            ]
          },
          "metadata": {
            "tags": []
          },
          "execution_count": 44
        }
      ]
    },
    {
      "cell_type": "code",
      "metadata": {
        "id": "0XhDcp5qPoHj",
        "colab_type": "code",
        "outputId": "6788a0e1-d939-4c82-ee45-126a883a1ccf",
        "colab": {
          "base_uri": "https://localhost:8080/",
          "height": 34
        }
      },
      "source": [
        "receiver_tensor = {'image_bytes': tf.placeholder(dtype=tf.string, shape=[1])}\n",
        "print(receiver_tensor['image_bytes'])"
      ],
      "execution_count": 0,
      "outputs": [
        {
          "output_type": "stream",
          "text": [
            "Tensor(\"Placeholder_11:0\", shape=(1,), dtype=string)\n"
          ],
          "name": "stdout"
        }
      ]
    },
    {
      "cell_type": "code",
      "metadata": {
        "id": "_OrzSWWW40uC",
        "colab_type": "code",
        "colab": {}
      },
      "source": [
        "receiver_tensor = {'images': tf.placeholder(shape=[None, 28, 28, 1], dtype=tf.string)}"
      ],
      "execution_count": 0,
      "outputs": []
    },
    {
      "cell_type": "markdown",
      "metadata": {
        "id": "OirYTLwKztx2",
        "colab_type": "text"
      },
      "source": [
        "<h3>Serving function</h3>"
      ]
    },
    {
      "cell_type": "code",
      "metadata": {
        "id": "-09B-yuUMdeN",
        "colab_type": "code",
        "colab": {}
      },
      "source": [
        "def serving_input_fn():\n",
        "  receiver_tensor = {'images': tf.placeholder(shape=[None, 28, 28, 1], dtype=tf.string)}\n",
        "  features = {'images': tf.map_fn(preprocess, receiver_tensor['images'])}\n",
        "  return tf.estimator.export.ServingInputReceiver(features, receiver_tensor)"
      ],
      "execution_count": 0,
      "outputs": []
    },
    {
      "cell_type": "markdown",
      "metadata": {
        "id": "ZOebbBuhzyg-",
        "colab_type": "text"
      },
      "source": [
        "\n",
        "\n",
        "\n",
        "\n"
      ]
    },
    {
      "cell_type": "code",
      "metadata": {
        "id": "qCRJa3dH3yud",
        "colab_type": "code",
        "outputId": "405c5f25-453f-49f1-c387-0eb5008db611",
        "colab": {
          "base_uri": "https://localhost:8080/",
          "height": 34
        }
      },
      "source": [
        "run_config = tf.estimator.RunConfig(model_dir='./Graph', save_summary_steps=10, save_checkpoints_secs = 300, keep_checkpoint_max = 5)\n",
        "estimator = tf.estimator.Estimator(model_fn=model_fn, config=run_config)\n",
        "\n",
        "# There is another Exporter named FinalExporter which exports the serving graph and checkpoints at the end.\n",
        "\n",
        "exporter = tf.estimator.LatestExporter(\n",
        "  name='Serve',\n",
        "  serving_input_receiver_fn=serving_input_fn,\n",
        "  assets_extra=None,\n",
        "  as_text=False,\n",
        "  exports_to_keep=5)\n",
        "\n",
        "train_spec = tf.estimator.TrainSpec(input_fn= lambda:input_fn(files_pattern, batch_size, mode=tf.estimator.ModeKeys.TRAIN))\n",
        "\n",
        "eval_spec = tf.estimator.EvalSpec(lambda: input_fn(files_pattern,  batch_size , mode=tf.estimator.ModeKeys.EVAL), exporters=exporter)"
      ],
      "execution_count": 0,
      "outputs": [
        {
          "output_type": "stream",
          "text": [
            "W0707 16:58:28.287952 139952384415616 model_fn.py:630] Estimator's model_fn (<function model_fn at 0x7f48d0008ea0>) includes params argument, but params are not passed to Estimator.\n"
          ],
          "name": "stderr"
        }
      ]
    },
    {
      "cell_type": "code",
      "metadata": {
        "id": "mjod791FBBpM",
        "colab_type": "code",
        "colab": {}
      },
      "source": [
        "writer.add_graph(tf.get_default_graph())\n",
        "writer.flush()"
      ],
      "execution_count": 0,
      "outputs": []
    },
    {
      "cell_type": "code",
      "metadata": {
        "id": "KMHahF8sOT_B",
        "colab_type": "code",
        "colab": {}
      },
      "source": [
        "tf.estimator.train_and_evaluate(estimator, train_spec, eval_spec)"
      ],
      "execution_count": 0,
      "outputs": []
    },
    {
      "cell_type": "code",
      "metadata": {
        "id": "p0E2p9UzzO2C",
        "colab_type": "code",
        "outputId": "84fef5b8-cd39-495a-ac8d-fad63e62b8a8",
        "colab": {
          "base_uri": "https://localhost:8080/",
          "height": 238
        }
      },
      "source": [
        "estimator.train(lambda: input_fn(files_pattern,  batch_size , mode=tf.estimator.ModeKeys.TRAIN), steps=100)"
      ],
      "execution_count": 0,
      "outputs": [
        {
          "output_type": "stream",
          "text": [
            "10\n",
            "Printing labels in model function\n",
            "Tensor(\"IteratorGetNext:1\", shape=(?, 5), dtype=float32, device=/device:CPU:0)\n",
            "Printing labels\n",
            "Tensor(\"IteratorGetNext:1\", shape=(?, 5), dtype=float32, device=/device:CPU:0)\n"
          ],
          "name": "stdout"
        },
        {
          "output_type": "stream",
          "text": [
            "W0707 16:58:33.496477 139952384415616 deprecation.py:323] From /usr/local/lib/python3.6/dist-packages/tensorflow/python/training/saver.py:1276: checkpoint_exists (from tensorflow.python.training.checkpoint_management) is deprecated and will be removed in a future version.\n",
            "Instructions for updating:\n",
            "Use standard file APIs to check for files with this prefix.\n",
            "W0707 16:58:33.591876 139952384415616 deprecation.py:323] From /usr/local/lib/python3.6/dist-packages/tensorflow/python/training/saver.py:1066: get_checkpoint_mtimes (from tensorflow.python.training.checkpoint_management) is deprecated and will be removed in a future version.\n",
            "Instructions for updating:\n",
            "Use standard file utilities to get mtimes.\n"
          ],
          "name": "stderr"
        },
        {
          "output_type": "execute_result",
          "data": {
            "text/plain": [
              "<tensorflow_estimator.python.estimator.estimator.Estimator at 0x7f48d0a67898>"
            ]
          },
          "metadata": {
            "tags": []
          },
          "execution_count": 28
        }
      ]
    },
    {
      "cell_type": "code",
      "metadata": {
        "id": "xHOVUP2iEw26",
        "colab_type": "code",
        "colab": {}
      },
      "source": [
        "estimator.evaluate(lambda: input_fn(files_pattern,  batch_size , mode=tf.estimator.ModeKeys.EVAL), steps=100)"
      ],
      "execution_count": 0,
      "outputs": []
    },
    {
      "cell_type": "code",
      "metadata": {
        "id": "p_0aCp8F0SJX",
        "colab_type": "code",
        "colab": {}
      },
      "source": [
        "l = estimator.predict(lambda: input_fn(test_pattern,  1 , mode=tf.estimator.ModeKeys.PREDICT))"
      ],
      "execution_count": 0,
      "outputs": []
    },
    {
      "cell_type": "code",
      "metadata": {
        "id": "JpGdLEZC0xyv",
        "colab_type": "code",
        "colab": {}
      },
      "source": [
        "def plot_bb(preds):\n",
        "  height_image = 28\n",
        "  width_image = 28\n",
        "  bb_box_width = preds[3] * width_image\n",
        "  bb_box_height = preds[4] * height_image\n",
        "  center_x = preds[1] * width_image\n",
        "  center_y = preds[2] * height_image\n",
        "  x_min = (center_x - (bb_box_width / 2))\n",
        "  y_min = (center_y - (bb_box_height / 2))\n",
        "  print(x_min)\n",
        "  print(y_min)\n",
        "  print(bb_box_width)\n",
        "  print(bb_box_height)\n",
        "  \n",
        "  \n",
        "  with tf.Session() as sess:\n",
        "    sess.graph._unsafe_unfinalize()\n",
        "\n",
        "  dataset = tf.data.TFRecordDataset(['/gdrive/My Drive/indic2019/Test/1.tfrecord'])\n",
        "  dataset = dataset.map(extract_fn)\n",
        "  image, label = dataset.make_one_shot_iterator().get_next()\n",
        "\n",
        "  with tf.Session() as sess:\n",
        "    sess.graph._unsafe_unfinalize()\n",
        "    img = sess.run(image)\n",
        "  img = img[:,:,0]\n",
        "  print(img.shape)\n",
        "  fig,ax = plt.subplots(1)\n",
        "  ax.imshow(img)\n",
        "  rect = patches.Rectangle((x_min,y_min),bb_box_width,bb_box_height,linewidth=1,edgecolor='r',facecolor='none')\n",
        "  ax.add_patch(rect)\n",
        "  plt.show()\n",
        "  \n",
        "  with tf.Session() as sess:\n",
        "    sess.graph._unsafe_unfinalize()\n",
        "\n",
        "  dataset = tf.data.TFRecordDataset(['/gdrive/My Drive/indic2019/Test/2.tfrecord'])\n",
        "  dataset = dataset.map(extract_fn)\n",
        "  image, label = dataset.make_one_shot_iterator().get_next()\n",
        "\n",
        "  with tf.Session() as sess:\n",
        "    sess.graph._unsafe_unfinalize()\n",
        "    img = sess.run(image)\n",
        "  img = img[:,:,0]\n",
        "  print(img.shape)\n",
        "  fig,ax = plt.subplots(1)\n",
        "  ax.imshow(img)\n",
        "  rect = patches.Rectangle((x_min,y_min),bb_box_width,bb_box_height,linewidth=1,edgecolor='r',facecolor='none')\n",
        "  ax.add_patch(rect)\n",
        "  plt.show()"
      ],
      "execution_count": 0,
      "outputs": []
    },
    {
      "cell_type": "code",
      "metadata": {
        "id": "wxSTyMPbRWRQ",
        "colab_type": "code",
        "outputId": "d56388c3-bbc1-4f06-bdd5-05aaa81b2f1b",
        "colab": {
          "base_uri": "https://localhost:8080/",
          "height": 151
        }
      },
      "source": [
        "count = 0\n",
        "for it in l:\n",
        "  preds = it['coordinates']\n",
        "  if count == 0:\n",
        "    break\n",
        "print(preds)"
      ],
      "execution_count": 0,
      "outputs": [
        {
          "output_type": "stream",
          "text": [
            "1\n",
            "INFO:tensorflow:Calling model_fn.\n",
            "INFO:tensorflow:Done calling model_fn.\n",
            "INFO:tensorflow:Graph was finalized.\n",
            "INFO:tensorflow:Restoring parameters from ./Graph/model.ckpt-225\n",
            "INFO:tensorflow:Running local_init_op.\n",
            "INFO:tensorflow:Done running local_init_op.\n",
            "[0.995943   0.5148804  0.536006   0.86078393 0.8441564 ]\n"
          ],
          "name": "stdout"
        }
      ]
    },
    {
      "cell_type": "code",
      "metadata": {
        "id": "Wyop5bqoDhHG",
        "colab_type": "code",
        "outputId": "602f94d5-e259-4dc5-ddf0-b09cc47afc4a",
        "colab": {
          "base_uri": "https://localhost:8080/",
          "height": 622
        }
      },
      "source": [
        "plot_bb(preds)"
      ],
      "execution_count": 0,
      "outputs": [
        {
          "output_type": "stream",
          "text": [
            "2.3656766414642334\n",
            "3.1899778842926025\n",
            "24.10195016860962\n",
            "23.6363787651062\n",
            "(28, 28)\n"
          ],
          "name": "stdout"
        },
        {
          "output_type": "display_data",
          "data": {
            "image/png": "[encoded data removed]",
            "text/plain": [
              "<Figure size 432x288 with 1 Axes>"
            ]
          },
          "metadata": {
            "tags": []
          }
        },
        {
          "output_type": "stream",
          "text": [
            "(28, 28)\n"
          ],
          "name": "stdout"
        },
        {
          "output_type": "display_data",
          "data": {
            "image/png": "[encoded data removed]",
            "text/plain": [
              "<Figure size 432x288 with 1 Axes>"
            ]
          },
          "metadata": {
            "tags": []
          }
        }
      ]
    },
    {
      "cell_type": "markdown",
      "metadata": {
        "id": "QuQGFMF56N_T",
        "colab_type": "text"
      },
      "source": [
        "Save the model"
      ]
    },
    {
      "cell_type": "code",
      "metadata": {
        "id": "k_pp5Aqs7Sxi",
        "colab_type": "code",
        "outputId": "f7a19338-03f9-483d-982b-005bf091ff9d",
        "colab": {
          "base_uri": "https://localhost:8080/",
          "height": 218
        }
      },
      "source": [
        "estimator.export_saved_model('saved_model', serving_input_fn)"
      ],
      "execution_count": 0,
      "outputs": [
        {
          "output_type": "stream",
          "text": [
            "INFO:tensorflow:Calling model_fn.\n",
            "INFO:tensorflow:Done calling model_fn.\n",
            "INFO:tensorflow:Signatures INCLUDED in export for Classify: None\n",
            "INFO:tensorflow:Signatures INCLUDED in export for Regress: None\n",
            "INFO:tensorflow:Signatures INCLUDED in export for Predict: ['coordinates', 'serving_default']\n",
            "INFO:tensorflow:Signatures INCLUDED in export for Train: None\n",
            "INFO:tensorflow:Signatures INCLUDED in export for Eval: None\n",
            "INFO:tensorflow:Restoring parameters from ./Graph/model.ckpt-225\n",
            "INFO:tensorflow:Assets added to graph.\n",
            "INFO:tensorflow:No assets to write.\n",
            "INFO:tensorflow:SavedModel written to: saved_model/temp-b'1559848351'/saved_model.pb\n"
          ],
          "name": "stdout"
        },
        {
          "output_type": "execute_result",
          "data": {
            "text/plain": [
              "b'saved_model/1559848351'"
            ]
          },
          "metadata": {
            "tags": []
          },
          "execution_count": 26
        }
      ]
    },
    {
      "cell_type": "code",
      "metadata": {
        "id": "FTISqgx9exsT",
        "colab_type": "code",
        "colab": {}
      },
      "source": [
        "#To export files from google drive to google ml bucket\n",
        "#!gsutil cp '/gdrive/My Drive/indic2019/Test/*.tfrecord' 'gs://indic2019/indic2019'\n",
        "  "
      ],
      "execution_count": 0,
      "outputs": []
    },
    {
      "cell_type": "code",
      "metadata": {
        "id": "u7sgBavrBdHh",
        "colab_type": "code",
        "colab": {}
      },
      "source": [
        "print(tf.__version__)"
      ],
      "execution_count": 0,
      "outputs": []
    },
    {
      "cell_type": "code",
      "metadata": {
        "id": "nAA5Z-tOE-zA",
        "colab_type": "code",
        "colab": {}
      },
      "source": [
        ""
      ],
      "execution_count": 0,
      "outputs": []
    }
  ]
}